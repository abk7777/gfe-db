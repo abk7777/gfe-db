{
 "cells": [
  {
   "cell_type": "markdown",
   "id": "5b3db559",
   "metadata": {},
   "source": [
    "# 0.0-load-gfe-db / Load Database\n",
    "\n",
    "Development notebook for executing Cypher transactions through the Neo4j HTTP API."
   ]
  },
  {
   "cell_type": "code",
   "execution_count": 1,
   "id": "e62686d6",
   "metadata": {},
   "outputs": [],
   "source": [
    "from dotenv import load_dotenv, find_dotenv\n",
    "load_dotenv(find_dotenv());"
   ]
  },
  {
   "cell_type": "code",
   "execution_count": 2,
   "id": "88205970",
   "metadata": {},
   "outputs": [],
   "source": [
    "import base64\n",
    "import json\n",
    "import requests"
   ]
  },
  {
   "cell_type": "code",
   "execution_count": 6,
   "id": "52a8bcdd",
   "metadata": {},
   "outputs": [],
   "source": [
    "# Environment variables\n",
    "protocol = 'http'\n",
    "host = \"3.94.99.96\"\n",
    "\n",
    "username = \"neo4j\"\n",
    "password = \"gfedb\"\n",
    "port = \"7474\"\n",
    "endpoint = \"db/neo4j/tx/commit\"\n",
    "url = f'{protocol}://{host}:{port}/{endpoint}'\n",
    "\n",
    "# Headers\n",
    "headers = { \n",
    "    \"Accept\": \"application/json;charset=UTF-8\",\n",
    "    \"Content-Type\": \"application/json\",\n",
    "    \"Authorization\": f\"Basic {base64.b64encode(':'.join([username, password]).encode()).decode()}\"\n",
    "}\n"
   ]
  },
  {
   "cell_type": "code",
   "execution_count": 7,
   "id": "b84229f7",
   "metadata": {},
   "outputs": [
    {
     "data": {
      "text/plain": [
       "{'Accept': 'application/json;charset=UTF-8',\n",
       " 'Content-Type': 'application/json',\n",
       " 'Authorization': 'Basic bmVvNGo6Z2ZlZGI='}"
      ]
     },
     "execution_count": 7,
     "metadata": {},
     "output_type": "execute_result"
    }
   ],
   "source": [
    "headers"
   ]
  },
  {
   "cell_type": "code",
   "execution_count": 8,
   "id": "68517c4c",
   "metadata": {},
   "outputs": [
    {
     "name": "stdout",
     "output_type": "stream",
     "text": [
      "http://3.94.99.96:7474/db/neo4j/tx/commit\n"
     ]
    }
   ],
   "source": [
    "print(url)"
   ]
  },
  {
   "cell_type": "code",
   "execution_count": 147,
   "id": "78227057",
   "metadata": {},
   "outputs": [],
   "source": [
    "cypher = \"MATCH (m:Movie) RETURN m LIMIT 3\""
   ]
  },
  {
   "cell_type": "code",
   "execution_count": 148,
   "id": "ceb22e1f",
   "metadata": {},
   "outputs": [],
   "source": [
    "payload = {\n",
    "    \"statements\": [\n",
    "        {\n",
    "            \"statement\": cypher,\n",
    "            \"params\": {}\n",
    "        }\n",
    "    ]\n",
    "}"
   ]
  },
  {
   "cell_type": "code",
   "execution_count": 154,
   "id": "91873c6c",
   "metadata": {},
   "outputs": [
    {
     "data": {
      "text/plain": [
       "{'statements': [{'statement': 'MATCH (m:Movie) RETURN m LIMIT 3',\n",
       "   'params': {}}]}"
      ]
     },
     "execution_count": 154,
     "metadata": {},
     "output_type": "execute_result"
    }
   ],
   "source": [
    "payload"
   ]
  },
  {
   "cell_type": "code",
   "execution_count": 149,
   "id": "81a5b38c",
   "metadata": {},
   "outputs": [
    {
     "data": {
      "text/plain": [
       "'{\"statements\": [{\"statement\": \"MATCH (m:Movie) RETURN m LIMIT 3\", \"params\": {}}]}'"
      ]
     },
     "execution_count": 149,
     "metadata": {},
     "output_type": "execute_result"
    }
   ],
   "source": [
    "json.dumps(payload)"
   ]
  },
  {
   "cell_type": "code",
   "execution_count": 150,
   "id": "1f3220dd",
   "metadata": {},
   "outputs": [],
   "source": [
    "# Send requests\n",
    "response = requests.post(\n",
    "    url, \n",
    "    data=json.dumps(payload), \n",
    "    headers=headers)"
   ]
  },
  {
   "cell_type": "code",
   "execution_count": 151,
   "id": "91974d8d",
   "metadata": {},
   "outputs": [
    {
     "name": "stdout",
     "output_type": "stream",
     "text": [
      "{'results': [{'columns': ['m'], 'data': [{'row': [{'tagline': 'Welcome to the Real World', 'title': 'The Matrix', 'released': 1999}], 'meta': [{'id': 0, 'type': 'node', 'deleted': False}]}, {'row': [{'tagline': 'Free your mind', 'title': 'The Matrix Reloaded', 'released': 2003}], 'meta': [{'id': 9, 'type': 'node', 'deleted': False}]}, {'row': [{'tagline': 'Everything that has a beginning has an end', 'title': 'The Matrix Revolutions', 'released': 2003}], 'meta': [{'id': 10, 'type': 'node', 'deleted': False}]}]}], 'errors': []}\n"
     ]
    }
   ],
   "source": [
    "print(json.loads(response.content))"
   ]
  },
  {
   "cell_type": "code",
   "execution_count": null,
   "id": "a8b94e58",
   "metadata": {},
   "outputs": [],
   "source": []
  },
  {
   "cell_type": "code",
   "execution_count": 10,
   "id": "824c724c",
   "metadata": {},
   "outputs": [],
   "source": [
    "# Send requests\n",
    "response = requests.get(\n",
    "    \"http://35.173.36.115:7474/\", \n",
    "    headers={\n",
    "        \"Accept\": \"application/json\"\n",
    "    })"
   ]
  },
  {
   "cell_type": "code",
   "execution_count": 16,
   "id": "142aa775",
   "metadata": {},
   "outputs": [
    {
     "name": "stdout",
     "output_type": "stream",
     "text": [
      "{\n",
      "  \"bolt_routing\" : \"neo4j://35.173.36.115:7687\",\n",
      "  \"transaction\" : \"http://35.173.36.115:7474/db/{databaseName}/tx\",\n",
      "  \"bolt_direct\" : \"bolt://35.173.36.115:7687\",\n",
      "  \"neo4j_version\" : \"4.3.2\",\n",
      "  \"neo4j_edition\" : \"community\"\n",
      "}\n"
     ]
    }
   ],
   "source": [
    "print(response.text\n",
    ")"
   ]
  },
  {
   "cell_type": "code",
   "execution_count": null,
   "id": "a1e548a7",
   "metadata": {},
   "outputs": [],
   "source": []
  }
 ],
 "metadata": {
  "kernelspec": {
   "display_name": "gfe-db",
   "language": "python",
   "name": "gfe-db"
  },
  "language_info": {
   "codemirror_mode": {
    "name": "ipython",
    "version": 3
   },
   "file_extension": ".py",
   "mimetype": "text/x-python",
   "name": "python",
   "nbconvert_exporter": "python",
   "pygments_lexer": "ipython3",
   "version": "3.8.8"
  }
 },
 "nbformat": 4,
 "nbformat_minor": 5
}
